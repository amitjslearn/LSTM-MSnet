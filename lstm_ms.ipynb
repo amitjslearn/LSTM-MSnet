{
  "nbformat": 4,
  "nbformat_minor": 0,
  "metadata": {
    "colab": {
      "name": "lstm-ms.ipynb",
      "provenance": [],
      "collapsed_sections": []
    },
    "kernelspec": {
      "name": "python3",
      "display_name": "Python 3"
    }
  },
  "cells": [
    {
      "cell_type": "code",
      "metadata": {
        "id": "LhBiUGc94abr"
      },
      "source": [
        "def lens(*args):\n",
        "    'returns the lengths of objects'\n",
        "    return list(map(len, args))"
      ],
      "execution_count": null,
      "outputs": []
    },
    {
      "cell_type": "code",
      "metadata": {
        "id": "HbjSA8bOgZoy"
      },
      "source": [
        "import os"
      ],
      "execution_count": null,
      "outputs": []
    },
    {
      "cell_type": "markdown",
      "metadata": {
        "id": "1KPUhr2D8oPW"
      },
      "source": [
        "Change the working directory to where the data files are located"
      ]
    },
    {
      "cell_type": "code",
      "metadata": {
        "id": "5x-vLXiRgbX6"
      },
      "source": [
        "os.chdir('/content/drive/My Drive/Colab Notebooks/green')"
      ],
      "execution_count": null,
      "outputs": []
    },
    {
      "cell_type": "code",
      "metadata": {
        "id": "oM5A-zei8tsM",
        "colab": {
          "base_uri": "https://localhost:8080/",
          "height": 35
        },
        "outputId": "7c62e986-9c10-4d10-ed25-c91e00b059d9"
      },
      "source": [
        "pwd"
      ],
      "execution_count": null,
      "outputs": [
        {
          "output_type": "execute_result",
          "data": {
            "application/vnd.google.colaboratory.intrinsic+json": {
              "type": "string"
            },
            "text/plain": [
              "'/content/drive/My Drive/Colab Notebooks/green'"
            ]
          },
          "metadata": {
            "tags": []
          },
          "execution_count": 56
        }
      ]
    },
    {
      "cell_type": "markdown",
      "metadata": {
        "id": "Ur2vbeRprX5B"
      },
      "source": [
        "## Install required libraries"
      ]
    },
    {
      "cell_type": "code",
      "metadata": {
        "id": "Ho7abkDvzrfG",
        "colab": {
          "base_uri": "https://localhost:8080/",
          "height": 69
        },
        "outputId": "c8ce6764-516f-4f52-dbed-83478b719c59"
      },
      "source": [
        "pip install pystan"
      ],
      "execution_count": null,
      "outputs": [
        {
          "output_type": "stream",
          "text": [
            "Requirement already satisfied: pystan in /usr/local/lib/python3.6/dist-packages (2.19.1.1)\n",
            "Requirement already satisfied: Cython!=0.25.1,>=0.22 in /usr/local/lib/python3.6/dist-packages (from pystan) (0.29.21)\n",
            "Requirement already satisfied: numpy>=1.7 in /usr/local/lib/python3.6/dist-packages (from pystan) (1.18.5)\n"
          ],
          "name": "stdout"
        }
      ]
    },
    {
      "cell_type": "code",
      "metadata": {
        "id": "4uN5KOBwzrZm",
        "colab": {
          "base_uri": "https://localhost:8080/",
          "height": 347
        },
        "outputId": "e93c149f-a3f7-4328-93de-bf8fb986cbce"
      },
      "source": [
        "pip install fbprophet"
      ],
      "execution_count": null,
      "outputs": [
        {
          "output_type": "stream",
          "text": [
            "Requirement already satisfied: fbprophet in /usr/local/lib/python3.6/dist-packages (0.6)\n",
            "Requirement already satisfied: Cython>=0.22 in /usr/local/lib/python3.6/dist-packages (from fbprophet) (0.29.21)\n",
            "Requirement already satisfied: cmdstanpy==0.4 in /usr/local/lib/python3.6/dist-packages (from fbprophet) (0.4.0)\n",
            "Requirement already satisfied: pystan>=2.14 in /usr/local/lib/python3.6/dist-packages (from fbprophet) (2.19.1.1)\n",
            "Requirement already satisfied: numpy>=1.10.0 in /usr/local/lib/python3.6/dist-packages (from fbprophet) (1.18.5)\n",
            "Requirement already satisfied: pandas>=0.23.4 in /usr/local/lib/python3.6/dist-packages (from fbprophet) (1.0.5)\n",
            "Requirement already satisfied: matplotlib>=2.0.0 in /usr/local/lib/python3.6/dist-packages (from fbprophet) (3.2.2)\n",
            "Requirement already satisfied: LunarCalendar>=0.0.9 in /usr/local/lib/python3.6/dist-packages (from fbprophet) (0.0.9)\n",
            "Requirement already satisfied: convertdate>=2.1.2 in /usr/local/lib/python3.6/dist-packages (from fbprophet) (2.2.1)\n",
            "Requirement already satisfied: holidays>=0.9.5 in /usr/local/lib/python3.6/dist-packages (from fbprophet) (0.9.12)\n",
            "Requirement already satisfied: setuptools-git>=1.2 in /usr/local/lib/python3.6/dist-packages (from fbprophet) (1.2)\n",
            "Requirement already satisfied: python-dateutil>=2.8.0 in /usr/local/lib/python3.6/dist-packages (from fbprophet) (2.8.1)\n",
            "Requirement already satisfied: pytz>=2017.2 in /usr/local/lib/python3.6/dist-packages (from pandas>=0.23.4->fbprophet) (2018.9)\n",
            "Requirement already satisfied: kiwisolver>=1.0.1 in /usr/local/lib/python3.6/dist-packages (from matplotlib>=2.0.0->fbprophet) (1.2.0)\n",
            "Requirement already satisfied: cycler>=0.10 in /usr/local/lib/python3.6/dist-packages (from matplotlib>=2.0.0->fbprophet) (0.10.0)\n",
            "Requirement already satisfied: pyparsing!=2.0.4,!=2.1.2,!=2.1.6,>=2.0.1 in /usr/local/lib/python3.6/dist-packages (from matplotlib>=2.0.0->fbprophet) (2.4.7)\n",
            "Requirement already satisfied: ephem>=3.7.5.3 in /usr/local/lib/python3.6/dist-packages (from LunarCalendar>=0.0.9->fbprophet) (3.7.7.1)\n",
            "Requirement already satisfied: pymeeus<=1,>=0.3.6 in /usr/local/lib/python3.6/dist-packages (from convertdate>=2.1.2->fbprophet) (0.3.7)\n",
            "Requirement already satisfied: six in /usr/local/lib/python3.6/dist-packages (from holidays>=0.9.5->fbprophet) (1.15.0)\n"
          ],
          "name": "stdout"
        }
      ]
    },
    {
      "cell_type": "code",
      "metadata": {
        "id": "pFe5-NkH088v"
      },
      "source": [
        "from fbprophet import Prophet\n"
      ],
      "execution_count": null,
      "outputs": []
    },
    {
      "cell_type": "code",
      "metadata": {
        "id": "3CwoE3OmiXUM"
      },
      "source": [
        "import pandas as pd\n",
        "import numpy as np"
      ],
      "execution_count": null,
      "outputs": []
    },
    {
      "cell_type": "markdown",
      "metadata": {
        "id": "cs6GiYMprk9_"
      },
      "source": [
        "## Load and checkout the data"
      ]
    },
    {
      "cell_type": "code",
      "metadata": {
        "id": "QSaUcxR6iEUf"
      },
      "source": [
        "df_tr = pd.read_csv('Hourly-train.csv')"
      ],
      "execution_count": null,
      "outputs": []
    },
    {
      "cell_type": "code",
      "metadata": {
        "id": "1isF4qukmewc",
        "colab": {
          "base_uri": "https://localhost:8080/",
          "height": 256
        },
        "outputId": "ede640b7-7c4c-452a-949f-a4e60c57e04d"
      },
      "source": [
        "df_tr.head()"
      ],
      "execution_count": null,
      "outputs": [
        {
          "output_type": "execute_result",
          "data": {
            "text/html": [
              "<div>\n",
              "<style scoped>\n",
              "    .dataframe tbody tr th:only-of-type {\n",
              "        vertical-align: middle;\n",
              "    }\n",
              "\n",
              "    .dataframe tbody tr th {\n",
              "        vertical-align: top;\n",
              "    }\n",
              "\n",
              "    .dataframe thead th {\n",
              "        text-align: right;\n",
              "    }\n",
              "</style>\n",
              "<table border=\"1\" class=\"dataframe\">\n",
              "  <thead>\n",
              "    <tr style=\"text-align: right;\">\n",
              "      <th></th>\n",
              "      <th>V1</th>\n",
              "      <th>V2</th>\n",
              "      <th>V3</th>\n",
              "      <th>V4</th>\n",
              "      <th>V5</th>\n",
              "      <th>V6</th>\n",
              "      <th>V7</th>\n",
              "      <th>V8</th>\n",
              "      <th>V9</th>\n",
              "      <th>V10</th>\n",
              "      <th>V11</th>\n",
              "      <th>V12</th>\n",
              "      <th>V13</th>\n",
              "      <th>V14</th>\n",
              "      <th>V15</th>\n",
              "      <th>V16</th>\n",
              "      <th>V17</th>\n",
              "      <th>V18</th>\n",
              "      <th>V19</th>\n",
              "      <th>V20</th>\n",
              "      <th>V21</th>\n",
              "      <th>V22</th>\n",
              "      <th>V23</th>\n",
              "      <th>V24</th>\n",
              "      <th>V25</th>\n",
              "      <th>V26</th>\n",
              "      <th>V27</th>\n",
              "      <th>V28</th>\n",
              "      <th>V29</th>\n",
              "      <th>V30</th>\n",
              "      <th>V31</th>\n",
              "      <th>V32</th>\n",
              "      <th>V33</th>\n",
              "      <th>V34</th>\n",
              "      <th>V35</th>\n",
              "      <th>V36</th>\n",
              "      <th>V37</th>\n",
              "      <th>V38</th>\n",
              "      <th>V39</th>\n",
              "      <th>V40</th>\n",
              "      <th>...</th>\n",
              "      <th>V922</th>\n",
              "      <th>V923</th>\n",
              "      <th>V924</th>\n",
              "      <th>V925</th>\n",
              "      <th>V926</th>\n",
              "      <th>V927</th>\n",
              "      <th>V928</th>\n",
              "      <th>V929</th>\n",
              "      <th>V930</th>\n",
              "      <th>V931</th>\n",
              "      <th>V932</th>\n",
              "      <th>V933</th>\n",
              "      <th>V934</th>\n",
              "      <th>V935</th>\n",
              "      <th>V936</th>\n",
              "      <th>V937</th>\n",
              "      <th>V938</th>\n",
              "      <th>V939</th>\n",
              "      <th>V940</th>\n",
              "      <th>V941</th>\n",
              "      <th>V942</th>\n",
              "      <th>V943</th>\n",
              "      <th>V944</th>\n",
              "      <th>V945</th>\n",
              "      <th>V946</th>\n",
              "      <th>V947</th>\n",
              "      <th>V948</th>\n",
              "      <th>V949</th>\n",
              "      <th>V950</th>\n",
              "      <th>V951</th>\n",
              "      <th>V952</th>\n",
              "      <th>V953</th>\n",
              "      <th>V954</th>\n",
              "      <th>V955</th>\n",
              "      <th>V956</th>\n",
              "      <th>V957</th>\n",
              "      <th>V958</th>\n",
              "      <th>V959</th>\n",
              "      <th>V960</th>\n",
              "      <th>V961</th>\n",
              "    </tr>\n",
              "  </thead>\n",
              "  <tbody>\n",
              "    <tr>\n",
              "      <th>0</th>\n",
              "      <td>H1</td>\n",
              "      <td>605.0</td>\n",
              "      <td>586.0</td>\n",
              "      <td>586.0</td>\n",
              "      <td>559.0</td>\n",
              "      <td>511.0</td>\n",
              "      <td>443.0</td>\n",
              "      <td>422.0</td>\n",
              "      <td>395.0</td>\n",
              "      <td>382.0</td>\n",
              "      <td>370.0</td>\n",
              "      <td>383.0</td>\n",
              "      <td>397.0</td>\n",
              "      <td>420.0</td>\n",
              "      <td>455.0</td>\n",
              "      <td>493.0</td>\n",
              "      <td>554.0</td>\n",
              "      <td>610.0</td>\n",
              "      <td>666.0</td>\n",
              "      <td>715.0</td>\n",
              "      <td>755.0</td>\n",
              "      <td>778.0</td>\n",
              "      <td>794.0</td>\n",
              "      <td>806.0</td>\n",
              "      <td>808.0</td>\n",
              "      <td>776.0</td>\n",
              "      <td>723.0</td>\n",
              "      <td>709.0</td>\n",
              "      <td>660.0</td>\n",
              "      <td>585.0</td>\n",
              "      <td>527.0</td>\n",
              "      <td>462.0</td>\n",
              "      <td>437.0</td>\n",
              "      <td>413.0</td>\n",
              "      <td>407.0</td>\n",
              "      <td>404.0</td>\n",
              "      <td>420.0</td>\n",
              "      <td>441.0</td>\n",
              "      <td>471.0</td>\n",
              "      <td>526.0</td>\n",
              "      <td>...</td>\n",
              "      <td>NaN</td>\n",
              "      <td>NaN</td>\n",
              "      <td>NaN</td>\n",
              "      <td>NaN</td>\n",
              "      <td>NaN</td>\n",
              "      <td>NaN</td>\n",
              "      <td>NaN</td>\n",
              "      <td>NaN</td>\n",
              "      <td>NaN</td>\n",
              "      <td>NaN</td>\n",
              "      <td>NaN</td>\n",
              "      <td>NaN</td>\n",
              "      <td>NaN</td>\n",
              "      <td>NaN</td>\n",
              "      <td>NaN</td>\n",
              "      <td>NaN</td>\n",
              "      <td>NaN</td>\n",
              "      <td>NaN</td>\n",
              "      <td>NaN</td>\n",
              "      <td>NaN</td>\n",
              "      <td>NaN</td>\n",
              "      <td>NaN</td>\n",
              "      <td>NaN</td>\n",
              "      <td>NaN</td>\n",
              "      <td>NaN</td>\n",
              "      <td>NaN</td>\n",
              "      <td>NaN</td>\n",
              "      <td>NaN</td>\n",
              "      <td>NaN</td>\n",
              "      <td>NaN</td>\n",
              "      <td>NaN</td>\n",
              "      <td>NaN</td>\n",
              "      <td>NaN</td>\n",
              "      <td>NaN</td>\n",
              "      <td>NaN</td>\n",
              "      <td>NaN</td>\n",
              "      <td>NaN</td>\n",
              "      <td>NaN</td>\n",
              "      <td>NaN</td>\n",
              "      <td>NaN</td>\n",
              "    </tr>\n",
              "    <tr>\n",
              "      <th>1</th>\n",
              "      <td>H2</td>\n",
              "      <td>3124.0</td>\n",
              "      <td>2990.0</td>\n",
              "      <td>2862.0</td>\n",
              "      <td>2809.0</td>\n",
              "      <td>2544.0</td>\n",
              "      <td>2201.0</td>\n",
              "      <td>1996.0</td>\n",
              "      <td>1861.0</td>\n",
              "      <td>1735.0</td>\n",
              "      <td>1713.0</td>\n",
              "      <td>1724.0</td>\n",
              "      <td>1798.0</td>\n",
              "      <td>1891.0</td>\n",
              "      <td>2037.0</td>\n",
              "      <td>2102.0</td>\n",
              "      <td>2163.0</td>\n",
              "      <td>2269.0</td>\n",
              "      <td>2404.0</td>\n",
              "      <td>2515.0</td>\n",
              "      <td>2621.0</td>\n",
              "      <td>2745.0</td>\n",
              "      <td>2816.0</td>\n",
              "      <td>2938.0</td>\n",
              "      <td>3022.0</td>\n",
              "      <td>2976.0</td>\n",
              "      <td>2892.0</td>\n",
              "      <td>2784.0</td>\n",
              "      <td>2725.0</td>\n",
              "      <td>2530.0</td>\n",
              "      <td>2211.0</td>\n",
              "      <td>1995.0</td>\n",
              "      <td>1833.0</td>\n",
              "      <td>1768.0</td>\n",
              "      <td>1712.0</td>\n",
              "      <td>1707.0</td>\n",
              "      <td>1762.0</td>\n",
              "      <td>1880.0</td>\n",
              "      <td>1995.0</td>\n",
              "      <td>2134.0</td>\n",
              "      <td>...</td>\n",
              "      <td>NaN</td>\n",
              "      <td>NaN</td>\n",
              "      <td>NaN</td>\n",
              "      <td>NaN</td>\n",
              "      <td>NaN</td>\n",
              "      <td>NaN</td>\n",
              "      <td>NaN</td>\n",
              "      <td>NaN</td>\n",
              "      <td>NaN</td>\n",
              "      <td>NaN</td>\n",
              "      <td>NaN</td>\n",
              "      <td>NaN</td>\n",
              "      <td>NaN</td>\n",
              "      <td>NaN</td>\n",
              "      <td>NaN</td>\n",
              "      <td>NaN</td>\n",
              "      <td>NaN</td>\n",
              "      <td>NaN</td>\n",
              "      <td>NaN</td>\n",
              "      <td>NaN</td>\n",
              "      <td>NaN</td>\n",
              "      <td>NaN</td>\n",
              "      <td>NaN</td>\n",
              "      <td>NaN</td>\n",
              "      <td>NaN</td>\n",
              "      <td>NaN</td>\n",
              "      <td>NaN</td>\n",
              "      <td>NaN</td>\n",
              "      <td>NaN</td>\n",
              "      <td>NaN</td>\n",
              "      <td>NaN</td>\n",
              "      <td>NaN</td>\n",
              "      <td>NaN</td>\n",
              "      <td>NaN</td>\n",
              "      <td>NaN</td>\n",
              "      <td>NaN</td>\n",
              "      <td>NaN</td>\n",
              "      <td>NaN</td>\n",
              "      <td>NaN</td>\n",
              "      <td>NaN</td>\n",
              "    </tr>\n",
              "    <tr>\n",
              "      <th>2</th>\n",
              "      <td>H3</td>\n",
              "      <td>1828.0</td>\n",
              "      <td>1806.0</td>\n",
              "      <td>1897.0</td>\n",
              "      <td>1750.0</td>\n",
              "      <td>1679.0</td>\n",
              "      <td>1620.0</td>\n",
              "      <td>1463.0</td>\n",
              "      <td>1342.0</td>\n",
              "      <td>1192.0</td>\n",
              "      <td>1108.0</td>\n",
              "      <td>1058.0</td>\n",
              "      <td>1024.0</td>\n",
              "      <td>1031.0</td>\n",
              "      <td>1091.0</td>\n",
              "      <td>1208.0</td>\n",
              "      <td>1337.0</td>\n",
              "      <td>1435.0</td>\n",
              "      <td>1515.0</td>\n",
              "      <td>1593.0</td>\n",
              "      <td>1667.0</td>\n",
              "      <td>1753.0</td>\n",
              "      <td>1768.0</td>\n",
              "      <td>1823.0</td>\n",
              "      <td>1813.0</td>\n",
              "      <td>1842.0</td>\n",
              "      <td>1838.0</td>\n",
              "      <td>1800.0</td>\n",
              "      <td>1761.0</td>\n",
              "      <td>1670.0</td>\n",
              "      <td>1609.0</td>\n",
              "      <td>1467.0</td>\n",
              "      <td>1309.0</td>\n",
              "      <td>1189.0</td>\n",
              "      <td>1102.0</td>\n",
              "      <td>1054.0</td>\n",
              "      <td>1017.0</td>\n",
              "      <td>1014.0</td>\n",
              "      <td>1063.0</td>\n",
              "      <td>1187.0</td>\n",
              "      <td>...</td>\n",
              "      <td>NaN</td>\n",
              "      <td>NaN</td>\n",
              "      <td>NaN</td>\n",
              "      <td>NaN</td>\n",
              "      <td>NaN</td>\n",
              "      <td>NaN</td>\n",
              "      <td>NaN</td>\n",
              "      <td>NaN</td>\n",
              "      <td>NaN</td>\n",
              "      <td>NaN</td>\n",
              "      <td>NaN</td>\n",
              "      <td>NaN</td>\n",
              "      <td>NaN</td>\n",
              "      <td>NaN</td>\n",
              "      <td>NaN</td>\n",
              "      <td>NaN</td>\n",
              "      <td>NaN</td>\n",
              "      <td>NaN</td>\n",
              "      <td>NaN</td>\n",
              "      <td>NaN</td>\n",
              "      <td>NaN</td>\n",
              "      <td>NaN</td>\n",
              "      <td>NaN</td>\n",
              "      <td>NaN</td>\n",
              "      <td>NaN</td>\n",
              "      <td>NaN</td>\n",
              "      <td>NaN</td>\n",
              "      <td>NaN</td>\n",
              "      <td>NaN</td>\n",
              "      <td>NaN</td>\n",
              "      <td>NaN</td>\n",
              "      <td>NaN</td>\n",
              "      <td>NaN</td>\n",
              "      <td>NaN</td>\n",
              "      <td>NaN</td>\n",
              "      <td>NaN</td>\n",
              "      <td>NaN</td>\n",
              "      <td>NaN</td>\n",
              "      <td>NaN</td>\n",
              "      <td>NaN</td>\n",
              "    </tr>\n",
              "    <tr>\n",
              "      <th>3</th>\n",
              "      <td>H4</td>\n",
              "      <td>6454.0</td>\n",
              "      <td>6324.0</td>\n",
              "      <td>6075.0</td>\n",
              "      <td>5949.0</td>\n",
              "      <td>5858.0</td>\n",
              "      <td>5579.0</td>\n",
              "      <td>5163.0</td>\n",
              "      <td>4790.0</td>\n",
              "      <td>4478.0</td>\n",
              "      <td>4227.0</td>\n",
              "      <td>4016.0</td>\n",
              "      <td>3879.0</td>\n",
              "      <td>3821.0</td>\n",
              "      <td>3823.0</td>\n",
              "      <td>3960.0</td>\n",
              "      <td>4169.0</td>\n",
              "      <td>4377.0</td>\n",
              "      <td>4597.0</td>\n",
              "      <td>4864.0</td>\n",
              "      <td>5183.0</td>\n",
              "      <td>5440.0</td>\n",
              "      <td>5707.0</td>\n",
              "      <td>5937.0</td>\n",
              "      <td>6089.0</td>\n",
              "      <td>6097.0</td>\n",
              "      <td>6018.0</td>\n",
              "      <td>5783.0</td>\n",
              "      <td>5655.0</td>\n",
              "      <td>5581.0</td>\n",
              "      <td>5320.0</td>\n",
              "      <td>4909.0</td>\n",
              "      <td>4509.0</td>\n",
              "      <td>4189.0</td>\n",
              "      <td>3964.0</td>\n",
              "      <td>3794.0</td>\n",
              "      <td>3680.0</td>\n",
              "      <td>3682.0</td>\n",
              "      <td>3693.0</td>\n",
              "      <td>3851.0</td>\n",
              "      <td>...</td>\n",
              "      <td>NaN</td>\n",
              "      <td>NaN</td>\n",
              "      <td>NaN</td>\n",
              "      <td>NaN</td>\n",
              "      <td>NaN</td>\n",
              "      <td>NaN</td>\n",
              "      <td>NaN</td>\n",
              "      <td>NaN</td>\n",
              "      <td>NaN</td>\n",
              "      <td>NaN</td>\n",
              "      <td>NaN</td>\n",
              "      <td>NaN</td>\n",
              "      <td>NaN</td>\n",
              "      <td>NaN</td>\n",
              "      <td>NaN</td>\n",
              "      <td>NaN</td>\n",
              "      <td>NaN</td>\n",
              "      <td>NaN</td>\n",
              "      <td>NaN</td>\n",
              "      <td>NaN</td>\n",
              "      <td>NaN</td>\n",
              "      <td>NaN</td>\n",
              "      <td>NaN</td>\n",
              "      <td>NaN</td>\n",
              "      <td>NaN</td>\n",
              "      <td>NaN</td>\n",
              "      <td>NaN</td>\n",
              "      <td>NaN</td>\n",
              "      <td>NaN</td>\n",
              "      <td>NaN</td>\n",
              "      <td>NaN</td>\n",
              "      <td>NaN</td>\n",
              "      <td>NaN</td>\n",
              "      <td>NaN</td>\n",
              "      <td>NaN</td>\n",
              "      <td>NaN</td>\n",
              "      <td>NaN</td>\n",
              "      <td>NaN</td>\n",
              "      <td>NaN</td>\n",
              "      <td>NaN</td>\n",
              "    </tr>\n",
              "    <tr>\n",
              "      <th>4</th>\n",
              "      <td>H5</td>\n",
              "      <td>4263.0</td>\n",
              "      <td>4297.0</td>\n",
              "      <td>4236.0</td>\n",
              "      <td>4080.0</td>\n",
              "      <td>3883.0</td>\n",
              "      <td>3672.0</td>\n",
              "      <td>3248.0</td>\n",
              "      <td>2841.0</td>\n",
              "      <td>2513.0</td>\n",
              "      <td>2275.0</td>\n",
              "      <td>2104.0</td>\n",
              "      <td>1988.0</td>\n",
              "      <td>1958.0</td>\n",
              "      <td>2006.0</td>\n",
              "      <td>2076.0</td>\n",
              "      <td>2209.0</td>\n",
              "      <td>2372.0</td>\n",
              "      <td>2599.0</td>\n",
              "      <td>2880.0</td>\n",
              "      <td>3127.0</td>\n",
              "      <td>3297.0</td>\n",
              "      <td>3506.0</td>\n",
              "      <td>3667.0</td>\n",
              "      <td>3752.0</td>\n",
              "      <td>3842.0</td>\n",
              "      <td>3851.0</td>\n",
              "      <td>3728.0</td>\n",
              "      <td>3578.0</td>\n",
              "      <td>3421.0</td>\n",
              "      <td>3252.0</td>\n",
              "      <td>2910.0</td>\n",
              "      <td>2559.0</td>\n",
              "      <td>2293.0</td>\n",
              "      <td>2104.0</td>\n",
              "      <td>1974.0</td>\n",
              "      <td>1893.0</td>\n",
              "      <td>1896.0</td>\n",
              "      <td>1970.0</td>\n",
              "      <td>2053.0</td>\n",
              "      <td>...</td>\n",
              "      <td>NaN</td>\n",
              "      <td>NaN</td>\n",
              "      <td>NaN</td>\n",
              "      <td>NaN</td>\n",
              "      <td>NaN</td>\n",
              "      <td>NaN</td>\n",
              "      <td>NaN</td>\n",
              "      <td>NaN</td>\n",
              "      <td>NaN</td>\n",
              "      <td>NaN</td>\n",
              "      <td>NaN</td>\n",
              "      <td>NaN</td>\n",
              "      <td>NaN</td>\n",
              "      <td>NaN</td>\n",
              "      <td>NaN</td>\n",
              "      <td>NaN</td>\n",
              "      <td>NaN</td>\n",
              "      <td>NaN</td>\n",
              "      <td>NaN</td>\n",
              "      <td>NaN</td>\n",
              "      <td>NaN</td>\n",
              "      <td>NaN</td>\n",
              "      <td>NaN</td>\n",
              "      <td>NaN</td>\n",
              "      <td>NaN</td>\n",
              "      <td>NaN</td>\n",
              "      <td>NaN</td>\n",
              "      <td>NaN</td>\n",
              "      <td>NaN</td>\n",
              "      <td>NaN</td>\n",
              "      <td>NaN</td>\n",
              "      <td>NaN</td>\n",
              "      <td>NaN</td>\n",
              "      <td>NaN</td>\n",
              "      <td>NaN</td>\n",
              "      <td>NaN</td>\n",
              "      <td>NaN</td>\n",
              "      <td>NaN</td>\n",
              "      <td>NaN</td>\n",
              "      <td>NaN</td>\n",
              "    </tr>\n",
              "  </tbody>\n",
              "</table>\n",
              "<p>5 rows × 961 columns</p>\n",
              "</div>"
            ],
            "text/plain": [
              "   V1      V2      V3      V4      V5  ...  V957  V958  V959  V960  V961\n",
              "0  H1   605.0   586.0   586.0   559.0  ...   NaN   NaN   NaN   NaN   NaN\n",
              "1  H2  3124.0  2990.0  2862.0  2809.0  ...   NaN   NaN   NaN   NaN   NaN\n",
              "2  H3  1828.0  1806.0  1897.0  1750.0  ...   NaN   NaN   NaN   NaN   NaN\n",
              "3  H4  6454.0  6324.0  6075.0  5949.0  ...   NaN   NaN   NaN   NaN   NaN\n",
              "4  H5  4263.0  4297.0  4236.0  4080.0  ...   NaN   NaN   NaN   NaN   NaN\n",
              "\n",
              "[5 rows x 961 columns]"
            ]
          },
          "metadata": {
            "tags": []
          },
          "execution_count": 62
        }
      ]
    },
    {
      "cell_type": "code",
      "metadata": {
        "id": "pw0TufmPo3ul",
        "colab": {
          "base_uri": "https://localhost:8080/",
          "height": 34
        },
        "outputId": "9a7a9c87-5424-4116-fa27-2680eb725c27"
      },
      "source": [
        "df_tr.shape"
      ],
      "execution_count": null,
      "outputs": [
        {
          "output_type": "execute_result",
          "data": {
            "text/plain": [
              "(414, 961)"
            ]
          },
          "metadata": {
            "tags": []
          },
          "execution_count": 63
        }
      ]
    },
    {
      "cell_type": "code",
      "metadata": {
        "id": "x4ddQXKPidlP"
      },
      "source": [
        "df_te = pd.read_csv('datasets_546263_996339_Hourly-test.csv')"
      ],
      "execution_count": null,
      "outputs": []
    },
    {
      "cell_type": "code",
      "metadata": {
        "id": "xbhPP1sro74G",
        "colab": {
          "base_uri": "https://localhost:8080/",
          "height": 34
        },
        "outputId": "6f96db0e-7bf8-4b8f-e845-c4c568f0a70a"
      },
      "source": [
        "df_te.shape"
      ],
      "execution_count": null,
      "outputs": [
        {
          "output_type": "execute_result",
          "data": {
            "text/plain": [
              "(414, 49)"
            ]
          },
          "metadata": {
            "tags": []
          },
          "execution_count": 65
        }
      ]
    },
    {
      "cell_type": "code",
      "metadata": {
        "id": "Vrmm_9hhmkxd",
        "colab": {
          "base_uri": "https://localhost:8080/",
          "height": 226
        },
        "outputId": "846728a5-2ecc-4368-b32c-22f3c4e7120c"
      },
      "source": [
        "df_te.head()"
      ],
      "execution_count": null,
      "outputs": [
        {
          "output_type": "execute_result",
          "data": {
            "text/html": [
              "<div>\n",
              "<style scoped>\n",
              "    .dataframe tbody tr th:only-of-type {\n",
              "        vertical-align: middle;\n",
              "    }\n",
              "\n",
              "    .dataframe tbody tr th {\n",
              "        vertical-align: top;\n",
              "    }\n",
              "\n",
              "    .dataframe thead th {\n",
              "        text-align: right;\n",
              "    }\n",
              "</style>\n",
              "<table border=\"1\" class=\"dataframe\">\n",
              "  <thead>\n",
              "    <tr style=\"text-align: right;\">\n",
              "      <th></th>\n",
              "      <th>V1</th>\n",
              "      <th>V2</th>\n",
              "      <th>V3</th>\n",
              "      <th>V4</th>\n",
              "      <th>V5</th>\n",
              "      <th>V6</th>\n",
              "      <th>V7</th>\n",
              "      <th>V8</th>\n",
              "      <th>V9</th>\n",
              "      <th>V10</th>\n",
              "      <th>V11</th>\n",
              "      <th>V12</th>\n",
              "      <th>V13</th>\n",
              "      <th>V14</th>\n",
              "      <th>V15</th>\n",
              "      <th>V16</th>\n",
              "      <th>V17</th>\n",
              "      <th>V18</th>\n",
              "      <th>V19</th>\n",
              "      <th>V20</th>\n",
              "      <th>V21</th>\n",
              "      <th>V22</th>\n",
              "      <th>V23</th>\n",
              "      <th>V24</th>\n",
              "      <th>V25</th>\n",
              "      <th>V26</th>\n",
              "      <th>V27</th>\n",
              "      <th>V28</th>\n",
              "      <th>V29</th>\n",
              "      <th>V30</th>\n",
              "      <th>V31</th>\n",
              "      <th>V32</th>\n",
              "      <th>V33</th>\n",
              "      <th>V34</th>\n",
              "      <th>V35</th>\n",
              "      <th>V36</th>\n",
              "      <th>V37</th>\n",
              "      <th>V38</th>\n",
              "      <th>V39</th>\n",
              "      <th>V40</th>\n",
              "      <th>V41</th>\n",
              "      <th>V42</th>\n",
              "      <th>V43</th>\n",
              "      <th>V44</th>\n",
              "      <th>V45</th>\n",
              "      <th>V46</th>\n",
              "      <th>V47</th>\n",
              "      <th>V48</th>\n",
              "      <th>V49</th>\n",
              "    </tr>\n",
              "  </thead>\n",
              "  <tbody>\n",
              "    <tr>\n",
              "      <th>0</th>\n",
              "      <td>H1</td>\n",
              "      <td>619.0</td>\n",
              "      <td>565.0</td>\n",
              "      <td>532.0</td>\n",
              "      <td>495.0</td>\n",
              "      <td>481.0</td>\n",
              "      <td>467.0</td>\n",
              "      <td>473.0</td>\n",
              "      <td>488.0</td>\n",
              "      <td>501.0</td>\n",
              "      <td>534.0</td>\n",
              "      <td>576.0</td>\n",
              "      <td>639.0</td>\n",
              "      <td>712.0</td>\n",
              "      <td>772.0</td>\n",
              "      <td>830.0</td>\n",
              "      <td>880.0</td>\n",
              "      <td>893.0</td>\n",
              "      <td>896.0</td>\n",
              "      <td>891.0</td>\n",
              "      <td>854.0</td>\n",
              "      <td>803.0</td>\n",
              "      <td>769.0</td>\n",
              "      <td>751.0</td>\n",
              "      <td>701.0</td>\n",
              "      <td>635.0</td>\n",
              "      <td>572.0</td>\n",
              "      <td>532.0</td>\n",
              "      <td>493.0</td>\n",
              "      <td>477.0</td>\n",
              "      <td>468.0</td>\n",
              "      <td>464.0</td>\n",
              "      <td>477.0</td>\n",
              "      <td>492.0</td>\n",
              "      <td>519.0</td>\n",
              "      <td>568.0</td>\n",
              "      <td>624.0</td>\n",
              "      <td>696.0</td>\n",
              "      <td>761.0</td>\n",
              "      <td>812.0</td>\n",
              "      <td>836.0</td>\n",
              "      <td>838.0</td>\n",
              "      <td>829.0</td>\n",
              "      <td>807.0</td>\n",
              "      <td>785.0</td>\n",
              "      <td>756.0</td>\n",
              "      <td>719.0</td>\n",
              "      <td>703.0</td>\n",
              "      <td>659.0</td>\n",
              "    </tr>\n",
              "    <tr>\n",
              "      <th>1</th>\n",
              "      <td>H2</td>\n",
              "      <td>2771.0</td>\n",
              "      <td>2396.0</td>\n",
              "      <td>2189.0</td>\n",
              "      <td>1984.0</td>\n",
              "      <td>1872.0</td>\n",
              "      <td>1843.0</td>\n",
              "      <td>1828.0</td>\n",
              "      <td>1872.0</td>\n",
              "      <td>1952.0</td>\n",
              "      <td>2069.0</td>\n",
              "      <td>2228.0</td>\n",
              "      <td>2419.0</td>\n",
              "      <td>2640.0</td>\n",
              "      <td>2850.0</td>\n",
              "      <td>3001.0</td>\n",
              "      <td>3129.0</td>\n",
              "      <td>3244.0</td>\n",
              "      <td>3295.0</td>\n",
              "      <td>3322.0</td>\n",
              "      <td>3322.0</td>\n",
              "      <td>3286.0</td>\n",
              "      <td>3092.0</td>\n",
              "      <td>2936.0</td>\n",
              "      <td>2825.0</td>\n",
              "      <td>2519.0</td>\n",
              "      <td>2197.0</td>\n",
              "      <td>1997.0</td>\n",
              "      <td>1775.0</td>\n",
              "      <td>1725.0</td>\n",
              "      <td>1630.0</td>\n",
              "      <td>1644.0</td>\n",
              "      <td>1722.0</td>\n",
              "      <td>1808.0</td>\n",
              "      <td>1961.0</td>\n",
              "      <td>2154.0</td>\n",
              "      <td>2355.0</td>\n",
              "      <td>2605.0</td>\n",
              "      <td>2821.0</td>\n",
              "      <td>3018.0</td>\n",
              "      <td>3206.0</td>\n",
              "      <td>3356.0</td>\n",
              "      <td>3499.0</td>\n",
              "      <td>3550.0</td>\n",
              "      <td>3558.0</td>\n",
              "      <td>3488.0</td>\n",
              "      <td>3224.0</td>\n",
              "      <td>3054.0</td>\n",
              "      <td>2918.0</td>\n",
              "    </tr>\n",
              "    <tr>\n",
              "      <th>2</th>\n",
              "      <td>H3</td>\n",
              "      <td>1455.0</td>\n",
              "      <td>1376.0</td>\n",
              "      <td>1235.0</td>\n",
              "      <td>1101.0</td>\n",
              "      <td>1003.0</td>\n",
              "      <td>943.0</td>\n",
              "      <td>905.0</td>\n",
              "      <td>886.0</td>\n",
              "      <td>910.0</td>\n",
              "      <td>970.0</td>\n",
              "      <td>1071.0</td>\n",
              "      <td>1170.0</td>\n",
              "      <td>1225.0</td>\n",
              "      <td>1306.0</td>\n",
              "      <td>1373.0</td>\n",
              "      <td>1442.0</td>\n",
              "      <td>1542.0</td>\n",
              "      <td>1611.0</td>\n",
              "      <td>1673.0</td>\n",
              "      <td>1711.0</td>\n",
              "      <td>1754.0</td>\n",
              "      <td>1757.0</td>\n",
              "      <td>1735.0</td>\n",
              "      <td>1667.0</td>\n",
              "      <td>1585.0</td>\n",
              "      <td>1473.0</td>\n",
              "      <td>1317.0</td>\n",
              "      <td>1177.0</td>\n",
              "      <td>1060.0</td>\n",
              "      <td>1000.0</td>\n",
              "      <td>951.0</td>\n",
              "      <td>917.0</td>\n",
              "      <td>924.0</td>\n",
              "      <td>979.0</td>\n",
              "      <td>1073.0</td>\n",
              "      <td>1195.0</td>\n",
              "      <td>1281.0</td>\n",
              "      <td>1371.0</td>\n",
              "      <td>1457.0</td>\n",
              "      <td>1529.0</td>\n",
              "      <td>1627.0</td>\n",
              "      <td>1701.0</td>\n",
              "      <td>1754.0</td>\n",
              "      <td>1791.0</td>\n",
              "      <td>1819.0</td>\n",
              "      <td>1791.0</td>\n",
              "      <td>1758.0</td>\n",
              "      <td>1679.0</td>\n",
              "    </tr>\n",
              "    <tr>\n",
              "      <th>3</th>\n",
              "      <td>H4</td>\n",
              "      <td>5327.0</td>\n",
              "      <td>5051.0</td>\n",
              "      <td>4683.0</td>\n",
              "      <td>4319.0</td>\n",
              "      <td>4049.0</td>\n",
              "      <td>3847.0</td>\n",
              "      <td>3712.0</td>\n",
              "      <td>3639.0</td>\n",
              "      <td>3652.0</td>\n",
              "      <td>3758.0</td>\n",
              "      <td>3857.0</td>\n",
              "      <td>4082.0</td>\n",
              "      <td>4363.0</td>\n",
              "      <td>4631.0</td>\n",
              "      <td>4915.0</td>\n",
              "      <td>5201.0</td>\n",
              "      <td>5442.0</td>\n",
              "      <td>5738.0</td>\n",
              "      <td>5993.0</td>\n",
              "      <td>6195.0</td>\n",
              "      <td>6290.0</td>\n",
              "      <td>6284.0</td>\n",
              "      <td>6126.0</td>\n",
              "      <td>5968.0</td>\n",
              "      <td>5818.0</td>\n",
              "      <td>5516.0</td>\n",
              "      <td>5074.0</td>\n",
              "      <td>4658.0</td>\n",
              "      <td>4337.0</td>\n",
              "      <td>4106.0</td>\n",
              "      <td>3922.0</td>\n",
              "      <td>3804.0</td>\n",
              "      <td>3794.0</td>\n",
              "      <td>3853.0</td>\n",
              "      <td>3993.0</td>\n",
              "      <td>4284.0</td>\n",
              "      <td>4575.0</td>\n",
              "      <td>4925.0</td>\n",
              "      <td>5337.0</td>\n",
              "      <td>5675.0</td>\n",
              "      <td>5926.0</td>\n",
              "      <td>6159.0</td>\n",
              "      <td>6313.0</td>\n",
              "      <td>6072.0</td>\n",
              "      <td>5612.0</td>\n",
              "      <td>5220.0</td>\n",
              "      <td>4895.0</td>\n",
              "      <td>4793.0</td>\n",
              "    </tr>\n",
              "    <tr>\n",
              "      <th>4</th>\n",
              "      <td>H5</td>\n",
              "      <td>3823.0</td>\n",
              "      <td>3501.0</td>\n",
              "      <td>3039.0</td>\n",
              "      <td>2613.0</td>\n",
              "      <td>2312.0</td>\n",
              "      <td>2079.0</td>\n",
              "      <td>1938.0</td>\n",
              "      <td>1839.0</td>\n",
              "      <td>1821.0</td>\n",
              "      <td>1877.0</td>\n",
              "      <td>1951.0</td>\n",
              "      <td>2062.0</td>\n",
              "      <td>2182.0</td>\n",
              "      <td>2353.0</td>\n",
              "      <td>2562.0</td>\n",
              "      <td>2826.0</td>\n",
              "      <td>3100.0</td>\n",
              "      <td>3431.0</td>\n",
              "      <td>3689.0</td>\n",
              "      <td>3900.0</td>\n",
              "      <td>4049.0</td>\n",
              "      <td>4056.0</td>\n",
              "      <td>3931.0</td>\n",
              "      <td>3682.0</td>\n",
              "      <td>3471.0</td>\n",
              "      <td>3200.0</td>\n",
              "      <td>2810.0</td>\n",
              "      <td>2461.0</td>\n",
              "      <td>2199.0</td>\n",
              "      <td>2004.0</td>\n",
              "      <td>1873.0</td>\n",
              "      <td>1791.0</td>\n",
              "      <td>1788.0</td>\n",
              "      <td>1853.0</td>\n",
              "      <td>1926.0</td>\n",
              "      <td>1996.0</td>\n",
              "      <td>2067.0</td>\n",
              "      <td>2174.0</td>\n",
              "      <td>2345.0</td>\n",
              "      <td>2529.0</td>\n",
              "      <td>2737.0</td>\n",
              "      <td>3028.0</td>\n",
              "      <td>3292.0</td>\n",
              "      <td>3453.0</td>\n",
              "      <td>3574.0</td>\n",
              "      <td>3522.0</td>\n",
              "      <td>3338.0</td>\n",
              "      <td>3041.0</td>\n",
              "    </tr>\n",
              "  </tbody>\n",
              "</table>\n",
              "</div>"
            ],
            "text/plain": [
              "   V1      V2      V3      V4      V5  ...     V45     V46     V47     V48     V49\n",
              "0  H1   619.0   565.0   532.0   495.0  ...   785.0   756.0   719.0   703.0   659.0\n",
              "1  H2  2771.0  2396.0  2189.0  1984.0  ...  3558.0  3488.0  3224.0  3054.0  2918.0\n",
              "2  H3  1455.0  1376.0  1235.0  1101.0  ...  1791.0  1819.0  1791.0  1758.0  1679.0\n",
              "3  H4  5327.0  5051.0  4683.0  4319.0  ...  6072.0  5612.0  5220.0  4895.0  4793.0\n",
              "4  H5  3823.0  3501.0  3039.0  2613.0  ...  3453.0  3574.0  3522.0  3338.0  3041.0\n",
              "\n",
              "[5 rows x 49 columns]"
            ]
          },
          "metadata": {
            "tags": []
          },
          "execution_count": 66
        }
      ]
    },
    {
      "cell_type": "markdown",
      "metadata": {
        "id": "zRfoARbJgHPB"
      },
      "source": [
        "# Part 1 & Part 2\n"
      ]
    },
    {
      "cell_type": "code",
      "metadata": {
        "id": "04v7bFxha4WX"
      },
      "source": [
        "input_size = int(48*1.25)  # input sequence size\n",
        "max_forecast_horizon = 48  # output sequence size"
      ],
      "execution_count": null,
      "outputs": []
    },
    {
      "cell_type": "code",
      "metadata": {
        "id": "sHJMTMmqrZ-a"
      },
      "source": [
        "def create_windows_inout(dataset, input_size, out_size=48):\n",
        "\t'Moving Window Transformation of the dataset, returns the sequences X and y'\n",
        "\tdataX = []\n",
        "\tdataY = []\n",
        "\tfor i in range(len(dataset)-out_size-1):\n",
        "\t\tx = dataset[i:(i+input_size)]  \n",
        "\t\ty = dataset[i+input_size : i+input_size+out_size]\n",
        "\t\tif len(x)!=60 or len(y) != 48:\n",
        "\t\t\tbreak\n",
        "\t\tdataX.append(x)\n",
        "\t\tdataY.append(y)\n",
        "\treturn np.array(dataX), np.array(dataY)\n",
        "\t# return dataX, dataY\n"
      ],
      "execution_count": null,
      "outputs": []
    },
    {
      "cell_type": "code",
      "metadata": {
        "id": "2WMvJu6hNiRp"
      },
      "source": [
        "def create_windows_season(season_vect, window_size=48):\n",
        "    'Moving Window Transformation of the seasonal_vector'\n",
        "    input_size = 60\n",
        "    dataY = []\n",
        "    for i in range(len(season_vect)-window_size-1):\n",
        "        y = season_vect[i+input_size : (i+input_size+window_size)]  \n",
        "        if len(y) != 48:\n",
        "            break\n",
        "        dataY.append(y)\n",
        "    return np.array(dataY)\n",
        "    # return dataY"
      ],
      "execution_count": null,
      "outputs": []
    },
    {
      "cell_type": "markdown",
      "metadata": {
        "id": "QDe41yMLzvhN"
      },
      "source": [
        "## Time Series Pre-processing and Seasonal Decomposition using Prophet"
      ]
    },
    {
      "cell_type": "markdown",
      "metadata": {
        "id": "wDPv09HCs5nv"
      },
      "source": [
        "Applying Normalisation, Variance Stabilisation Layer and Moving Window Transformation, Seasonal Decomposition"
      ]
    },
    {
      "cell_type": "code",
      "metadata": {
        "id": "JbcTyLswNQTY",
        "colab": {
          "base_uri": "https://localhost:8080/",
          "height": 52
        },
        "outputId": "7d851796-2480-416e-9183-fa424c3bdbe7"
      },
      "source": [
        "%%time\n",
        "X_train, y_train = [], []\n",
        "seasonal_vectors = []\n",
        "time_series_means = []\n",
        "level_valuess = []\n",
        "for i in range(len(df_tr)):\n",
        "    time_series_data = df_tr.iloc[i][1:].dropna()\n",
        "    time_series_mean = time_series_data.mean()\n",
        "    time_series_data = time_series_data/time_series_mean # Normalisation\n",
        "\n",
        "    time_series_log = np.log(time_series_data.astype('float32') + 1) # Variance Stabilisation Layer\n",
        "    time_series_length = len(time_series_log)\n",
        "    history = pd.DataFrame({\n",
        "        'ds': pd.date_range('2010-01-01', periods=len(time_series_log), freq='H'),\n",
        "        'y': time_series_log\n",
        "    })\n",
        "    m = Prophet(yearly_seasonality=True)\n",
        "    m.fit(history)\n",
        "    future = m.make_future_dataframe(periods=0)\n",
        "    forecast = m.predict(future)\n",
        "    seasonal_vect = forecast['daily'] + forecast['weekly'] + forecast['yearly']\n",
        "    levels_vect = forecast['trend']\n",
        "    residuals = np.array(time_series_log) - forecast['yhat']\n",
        "    values_vect = residuals + (levels_vect) # trend + residuals\n",
        "\n",
        "    # Moving Window Transformation\n",
        "    X, Y = create_windows_inout(list(values_vect), int(input_size))\n",
        "    seas_vects = create_windows_season(list(seasonal_vect))\n",
        "\n",
        "    level_values = np.array(levels_vect[input_size : (time_series_length - max_forecast_horizon +1)])\n",
        "    X = np.subtract(X, level_values.reshape(-1, 1))\n",
        "    Y = np.subtract(Y, level_values.reshape(-1, 1))\n",
        "\n",
        "    level_valuess.extend(level_values.tolist())\n",
        "    time_series_means.extend([time_series_mean]*len(seas_vects))\n",
        "    X_train.extend(X.tolist())\n",
        "    y_train.extend(Y.tolist())\n",
        "    seasonal_vectors.extend(seas_vects.tolist())\n",
        "    # if i==5: # creating a shorter dataset/dummy dataset as sample dataset\n",
        "    break"
      ],
      "execution_count": null,
      "outputs": [
        {
          "output_type": "stream",
          "text": [
            "CPU times: user 3.95 s, sys: 2.59 s, total: 6.54 s\n",
            "Wall time: 3.62 s\n"
          ],
          "name": "stdout"
        }
      ]
    },
    {
      "cell_type": "markdown",
      "metadata": {
        "id": "jmiCZbVutmHw"
      },
      "source": [
        "Checking the lengths of the sequences"
      ]
    },
    {
      "cell_type": "code",
      "metadata": {
        "id": "Gx868RLly4L2",
        "colab": {
          "base_uri": "https://localhost:8080/",
          "height": 34
        },
        "outputId": "8357903a-c690-407e-f320-afcbda6e864b"
      },
      "source": [
        "lens(level_valuess, X,Y)"
      ],
      "execution_count": null,
      "outputs": [
        {
          "output_type": "execute_result",
          "data": {
            "text/plain": [
              "[593, 593, 593]"
            ]
          },
          "metadata": {
            "tags": []
          },
          "execution_count": 71
        }
      ]
    },
    {
      "cell_type": "code",
      "metadata": {
        "id": "Wuk7t_TLbb7N",
        "colab": {
          "base_uri": "https://localhost:8080/",
          "height": 34
        },
        "outputId": "cf70457b-591c-41b2-83b7-c0baf791f301"
      },
      "source": [
        "lens( forecast['yhat'], time_series_log, history, forecast, seasonal_vect, levels_vect, residuals, values_vect)"
      ],
      "execution_count": null,
      "outputs": [
        {
          "output_type": "execute_result",
          "data": {
            "text/plain": [
              "[700, 700, 700, 700, 700, 700, 700, 700]"
            ]
          },
          "metadata": {
            "tags": []
          },
          "execution_count": 72
        }
      ]
    },
    {
      "cell_type": "code",
      "metadata": {
        "id": "ZSsxViY6pDnR",
        "colab": {
          "base_uri": "https://localhost:8080/",
          "height": 34
        },
        "outputId": "0bb496ca-86c5-4976-f98a-4bdd237a4810"
      },
      "source": [
        "lens(X_train[-1], y_train[-1], seasonal_vectors[-1])"
      ],
      "execution_count": null,
      "outputs": [
        {
          "output_type": "execute_result",
          "data": {
            "text/plain": [
              "[60, 48, 48]"
            ]
          },
          "metadata": {
            "tags": []
          },
          "execution_count": 73
        }
      ]
    },
    {
      "cell_type": "code",
      "metadata": {
        "id": "tfXddji-paog",
        "colab": {
          "base_uri": "https://localhost:8080/",
          "height": 34
        },
        "outputId": "1949f747-5fc5-4e34-a075-bc9c18fb23c0"
      },
      "source": [
        "lens(X_train[1], y_train[1], seasonal_vectors[1])"
      ],
      "execution_count": null,
      "outputs": [
        {
          "output_type": "execute_result",
          "data": {
            "text/plain": [
              "[60, 48, 48]"
            ]
          },
          "metadata": {
            "tags": []
          },
          "execution_count": 74
        }
      ]
    },
    {
      "cell_type": "code",
      "metadata": {
        "id": "_aE7DBsvpUI6",
        "colab": {
          "base_uri": "https://localhost:8080/",
          "height": 34
        },
        "outputId": "e2f58037-b9ef-451c-ddec-4663a3532206"
      },
      "source": [
        "lens(X_train, y_train, seasonal_vectors, time_series_means)"
      ],
      "execution_count": null,
      "outputs": [
        {
          "output_type": "execute_result",
          "data": {
            "text/plain": [
              "[593, 593, 593, 593]"
            ]
          },
          "metadata": {
            "tags": []
          },
          "execution_count": 75
        }
      ]
    },
    {
      "cell_type": "markdown",
      "metadata": {
        "id": "hJdueSLZuLyT"
      },
      "source": [
        "## Visualize Seasonal Decomposition by decomposing"
      ]
    },
    {
      "cell_type": "code",
      "metadata": {
        "id": "WdeYRt6RlXvL"
      },
      "source": [
        "m = Prophet(yearly_seasonality=True)\n",
        "m.fit(history)\n",
        "future = m.make_future_dataframe(periods=0)\n",
        "forecast = m.predict(future)\n"
      ],
      "execution_count": null,
      "outputs": []
    },
    {
      "cell_type": "markdown",
      "metadata": {
        "id": "JNGbVD3wuVQt"
      },
      "source": [
        "Visualize working of the implemented Seasonal Decomposition technique by decomposing an Observed time series into its Trend, Seasonal and residual patterns"
      ]
    },
    {
      "cell_type": "code",
      "metadata": {
        "id": "aKQx_PlLljw8",
        "colab": {
          "base_uri": "https://localhost:8080/",
          "height": 873
        },
        "outputId": "56755aef-e63e-4988-8d49-b249c92ffd68"
      },
      "source": [
        "fig1 = m.plot_components(forecast)"
      ],
      "execution_count": null,
      "outputs": [
        {
          "output_type": "display_data",
          "data": {
            "image/png": "[encoded data removed]",
            "text/plain": [
              "<Figure size 648x864 with 4 Axes>"
            ]
          },
          "metadata": {
            "tags": []
          }
        }
      ]
    },
    {
      "cell_type": "markdown",
      "metadata": {
        "id": "oJfKYDaDudOI"
      },
      "source": [
        "## Creating and saving the dataset"
      ]
    },
    {
      "cell_type": "code",
      "metadata": {
        "id": "hvhXJGBCy4_d"
      },
      "source": [
        "df_x_y_seasonal_comp = pd.DataFrame({\n",
        "    'x': X_train,\n",
        "    'y': y_train,\n",
        "    'seasonal_vectors': seasonal_vectors,\n",
        "    'time_series_means': time_series_means,\n",
        "    'level_values': level_valuess\n",
        "})"
      ],
      "execution_count": null,
      "outputs": []
    },
    {
      "cell_type": "code",
      "metadata": {
        "id": "_nWy-jdxbuST",
        "colab": {
          "base_uri": "https://localhost:8080/",
          "height": 293
        },
        "outputId": "36cccc47-4754-4016-ad76-a8e38d4adda7"
      },
      "source": [
        "df_x_y_seasonal_comp.head()"
      ],
      "execution_count": null,
      "outputs": [
        {
          "output_type": "execute_result",
          "data": {
            "text/html": [
              "<div>\n",
              "<style scoped>\n",
              "    .dataframe tbody tr th:only-of-type {\n",
              "        vertical-align: middle;\n",
              "    }\n",
              "\n",
              "    .dataframe tbody tr th {\n",
              "        vertical-align: top;\n",
              "    }\n",
              "\n",
              "    .dataframe thead th {\n",
              "        text-align: right;\n",
              "    }\n",
              "</style>\n",
              "<table border=\"1\" class=\"dataframe\">\n",
              "  <thead>\n",
              "    <tr style=\"text-align: right;\">\n",
              "      <th></th>\n",
              "      <th>x</th>\n",
              "      <th>y</th>\n",
              "      <th>seasonal_vectors</th>\n",
              "      <th>time_series_means</th>\n",
              "      <th>level_values</th>\n",
              "    </tr>\n",
              "  </thead>\n",
              "  <tbody>\n",
              "    <tr>\n",
              "      <th>0</th>\n",
              "      <td>[-0.07319256244758882, -0.06910902964187737, -...</td>\n",
              "      <td>[0.027680311860873885, 0.024897338128175017, 0...</td>\n",
              "      <td>[0.04384572158000452, 0.07772431928273506, 0.1...</td>\n",
              "      <td>638.488571</td>\n",
              "      <td>0.450830</td>\n",
              "    </tr>\n",
              "    <tr>\n",
              "      <th>1</th>\n",
              "      <td>[-0.06915537034073144, -0.044228376278216464, ...</td>\n",
              "      <td>[0.024850997429320953, 0.02437960239619341, 0....</td>\n",
              "      <td>[0.07772431928273506, 0.12739362653204922, 0.1...</td>\n",
              "      <td>638.488571</td>\n",
              "      <td>0.450876</td>\n",
              "    </tr>\n",
              "    <tr>\n",
              "      <th>2</th>\n",
              "      <td>[-0.04427471697707047, -0.03258628999318941, -...</td>\n",
              "      <td>[0.024333261697339403, 0.024489483996463834, 0...</td>\n",
              "      <td>[0.12739362653204922, 0.1838962086495812, 0.23...</td>\n",
              "      <td>638.488571</td>\n",
              "      <td>0.450923</td>\n",
              "    </tr>\n",
              "    <tr>\n",
              "      <th>3</th>\n",
              "      <td>[-0.032632630692043474, -0.0298387303276082, -...</td>\n",
              "      <td>[0.02444314329760977, 0.023703648685737877, 0....</td>\n",
              "      <td>[0.1838962086495812, 0.2359496399718107, 0.276...</td>\n",
              "      <td>638.488571</td>\n",
              "      <td>0.450969</td>\n",
              "    </tr>\n",
              "    <tr>\n",
              "      <th>4</th>\n",
              "      <td>[-0.029885071026462262, -0.042765899503585725,...</td>\n",
              "      <td>[0.023657307986883813, 0.01881994029289552, 0....</td>\n",
              "      <td>[0.2359496399718107, 0.2763163231374482, 0.304...</td>\n",
              "      <td>638.488571</td>\n",
              "      <td>0.451015</td>\n",
              "    </tr>\n",
              "  </tbody>\n",
              "</table>\n",
              "</div>"
            ],
            "text/plain": [
              "                                                   x  ... level_values\n",
              "0  [-0.07319256244758882, -0.06910902964187737, -...  ...     0.450830\n",
              "1  [-0.06915537034073144, -0.044228376278216464, ...  ...     0.450876\n",
              "2  [-0.04427471697707047, -0.03258628999318941, -...  ...     0.450923\n",
              "3  [-0.032632630692043474, -0.0298387303276082, -...  ...     0.450969\n",
              "4  [-0.029885071026462262, -0.042765899503585725,...  ...     0.451015\n",
              "\n",
              "[5 rows x 5 columns]"
            ]
          },
          "metadata": {
            "tags": []
          },
          "execution_count": 79
        }
      ]
    },
    {
      "cell_type": "code",
      "metadata": {
        "id": "VeFdPcBQ1VXJ"
      },
      "source": [
        "X_train =  np.array(X_train)\n",
        "y_train =  np.array(y_train)\n",
        "seasonal_vectors =  np.array(seasonal_vectors)\n",
        "level_valuess = np.array(level_valuess)"
      ],
      "execution_count": null,
      "outputs": []
    },
    {
      "cell_type": "code",
      "metadata": {
        "id": "GY3qkKmdzgCY"
      },
      "source": [
        "df_x_y_seasonal_comp.to_csv('x_y_seasonal_comp.csv')"
      ],
      "execution_count": null,
      "outputs": []
    },
    {
      "cell_type": "markdown",
      "metadata": {
        "id": "GaXRuflyAg-D"
      },
      "source": [
        "# Part 3"
      ]
    },
    {
      "cell_type": "markdown",
      "metadata": {
        "id": "fm_5R4-9mCJC"
      },
      "source": [
        "## DataLoader"
      ]
    },
    {
      "cell_type": "code",
      "metadata": {
        "id": "JG6mC_eT6iV4"
      },
      "source": [
        "import torch"
      ],
      "execution_count": null,
      "outputs": []
    },
    {
      "cell_type": "code",
      "metadata": {
        "id": "K3Oh1ZZo8LWr"
      },
      "source": [
        "from sklearn.model_selection import train_test_split"
      ],
      "execution_count": null,
      "outputs": []
    },
    {
      "cell_type": "code",
      "metadata": {
        "id": "5N4TG3LDCKAz"
      },
      "source": [
        "from torch.utils.data import TensorDataset, DataLoader"
      ],
      "execution_count": null,
      "outputs": []
    },
    {
      "cell_type": "code",
      "metadata": {
        "id": "Arqt02mp8PS_"
      },
      "source": [
        "np.random.seed(2020)"
      ],
      "execution_count": null,
      "outputs": []
    },
    {
      "cell_type": "code",
      "metadata": {
        "id": "i5c9H8tF8vCe"
      },
      "source": [
        "X_train, X_val, y_train, y_val = train_test_split(X_train, y_train , test_size=0.1, random_state=2020)"
      ],
      "execution_count": null,
      "outputs": []
    },
    {
      "cell_type": "code",
      "metadata": {
        "id": "jxHAMAbEFp-X"
      },
      "source": [
        "# X_train, X_val, y_train, y_val = list(map(list, [X_train, X_val, y_train, y_val]))"
      ],
      "execution_count": null,
      "outputs": []
    },
    {
      "cell_type": "code",
      "metadata": {
        "id": "uppl_9YuB3Fb"
      },
      "source": [
        "X_train, X_val, y_train, y_val = list(map(torch.tensor, [X_train, X_val, y_train, y_val]))"
      ],
      "execution_count": null,
      "outputs": []
    },
    {
      "cell_type": "code",
      "metadata": {
        "id": "rnfzPI21egWV"
      },
      "source": [
        "X_train, X_val, y_train, y_val = list(map(lambda x: x.float(), [X_train, X_val, y_train, y_val]))"
      ],
      "execution_count": null,
      "outputs": []
    },
    {
      "cell_type": "code",
      "metadata": {
        "id": "6ZXjyLP7_gPS"
      },
      "source": [
        "trn_dataset = TensorDataset(X_train, y_train)"
      ],
      "execution_count": null,
      "outputs": []
    },
    {
      "cell_type": "code",
      "metadata": {
        "id": "XE37m9yjB1XV"
      },
      "source": [
        "val_dataset = TensorDataset(X_val, y_val)"
      ],
      "execution_count": null,
      "outputs": []
    },
    {
      "cell_type": "code",
      "metadata": {
        "id": "AUA2cjSnCq6Z"
      },
      "source": [
        "trn_dl = DataLoader(trn_dataset, batch_size=12)"
      ],
      "execution_count": null,
      "outputs": []
    },
    {
      "cell_type": "code",
      "metadata": {
        "id": "VXmHmqRLC8k0"
      },
      "source": [
        "val_dl = DataLoader(val_dataset, batch_size=12)"
      ],
      "execution_count": null,
      "outputs": []
    },
    {
      "cell_type": "code",
      "metadata": {
        "id": "H-q-7TeJNihc"
      },
      "source": [
        "bs = 12 # batch size"
      ],
      "execution_count": null,
      "outputs": []
    },
    {
      "cell_type": "markdown",
      "metadata": {
        "id": "RsmJdP5SvpTb"
      },
      "source": [
        "# model"
      ]
    },
    {
      "cell_type": "code",
      "metadata": {
        "id": "IfRgb3KMvqa5"
      },
      "source": [
        "import torch\n",
        "import torch.nn as nn"
      ],
      "execution_count": null,
      "outputs": []
    },
    {
      "cell_type": "code",
      "metadata": {
        "id": "Ny0ausXn1gig"
      },
      "source": [
        "class LSTM_net(nn.Module):\n",
        "    def __init__(self, input_seq_len=60, hidden_size=20, num_layers = 2, output_seq_len = 48, batch_size=12):\n",
        "        super().__init__()\n",
        "        self.batch_size = batch_size\n",
        "        self.input_seq_len = input_seq_len\n",
        "        self.output_seq_len = output_seq_len\n",
        "        self.hidden_size = hidden_size\n",
        "        self.lstm = nn.LSTM(input_size=1, hidden_size=20, num_layers = 2, batch_first=True)\n",
        "        self.linear = nn.Linear(input_seq_len*hidden_size, output_seq_len)\n",
        "\n",
        "    # def init_hidden(self):\n",
        "    #     # This is what we'll initialise our hidden state as\n",
        "    #     return (torch.zeros(self.num_layers, self.batch_size, self.hidden_dim),\n",
        "    #             torch.zeros(self.num_layers, self.batch_size, self.hidden_dim))\n",
        "\n",
        "    def forward(self, input_seq):\n",
        "        out, (hn ,cn) = self.lstm(input_seq)\n",
        "        y_hat = self.linear(out.reshape(-1, self.input_seq_len * self.hidden_size))\n",
        "        return y_hat"
      ],
      "execution_count": null,
      "outputs": []
    },
    {
      "cell_type": "code",
      "metadata": {
        "id": "sSbIphBmZRDB"
      },
      "source": [
        "model = LSTM_net()"
      ],
      "execution_count": null,
      "outputs": []
    },
    {
      "cell_type": "code",
      "metadata": {
        "id": "qsXXmecZcZnK"
      },
      "source": [
        "model = model.float()"
      ],
      "execution_count": null,
      "outputs": []
    },
    {
      "cell_type": "markdown",
      "metadata": {
        "id": "vg56fItTDRqN"
      },
      "source": [
        "# Loss"
      ]
    },
    {
      "cell_type": "code",
      "metadata": {
        "id": "gw0mfXljit9j"
      },
      "source": [
        "def l1_loss(output, target):\n",
        "    'L1-norm'\n",
        "    loss = torch.mean(torch.abs(output - target))\n",
        "    return loss"
      ],
      "execution_count": null,
      "outputs": []
    },
    {
      "cell_type": "code",
      "metadata": {
        "id": "MvAmp8F7lkFO"
      },
      "source": [
        "def l2_reg_term(model_params):\n",
        "    'L2-regularization'\n",
        "    for param in model_params:\n",
        "        l2_reg += torch.pow(param, 2).sum()\n",
        "    l2_reg = l2_reg * 0.5\n",
        "    return l2_reg"
      ],
      "execution_count": null,
      "outputs": []
    },
    {
      "cell_type": "markdown",
      "metadata": {
        "id": "q30R7X-gzcIC"
      },
      "source": [
        "The total loss as given in the paper"
      ]
    },
    {
      "cell_type": "code",
      "metadata": {
        "id": "hhQmXiGXnA5r"
      },
      "source": [
        "def total_loss(output, target, model_params, psi=1e-4):\n",
        "    loss = l1_loss(output, target) + psi*l2_reg_term(model_params)\n",
        "    return loss"
      ],
      "execution_count": null,
      "outputs": []
    },
    {
      "cell_type": "markdown",
      "metadata": {
        "id": "Dzwnu3hdnyuQ"
      },
      "source": [
        "# Train"
      ]
    },
    {
      "cell_type": "code",
      "metadata": {
        "id": "oY_cuxI8bn0M"
      },
      "source": [
        "from torch import optim"
      ],
      "execution_count": null,
      "outputs": []
    },
    {
      "cell_type": "code",
      "metadata": {
        "id": "guUmdUcLnyZ_"
      },
      "source": [
        "device = torch.device('cuda:0' if torch.cuda.is_available() else 'cpu')"
      ],
      "execution_count": null,
      "outputs": []
    },
    {
      "cell_type": "code",
      "metadata": {
        "id": "ITOqgHfwbeRT"
      },
      "source": [
        "optimizer = optim.Adam(model.parameters(), lr=0.001)\n"
      ],
      "execution_count": null,
      "outputs": []
    },
    {
      "cell_type": "markdown",
      "metadata": {
        "id": "VlIWl7xz1MhR"
      },
      "source": [
        "## util functions for training"
      ]
    },
    {
      "cell_type": "code",
      "metadata": {
        "id": "zzsHG3N6hBLx"
      },
      "source": [
        "def validation_step(model, batch):\n",
        "    images, targets = batch \n",
        "    out = model(images.reshape(bs,-1, 1))                           # Generate predictions\n",
        "    loss = total_loss(out, targets, model.parameters())  # Calculate loss\n",
        "    return {'val_loss': loss.detach() }"
      ],
      "execution_count": null,
      "outputs": []
    },
    {
      "cell_type": "code",
      "metadata": {
        "id": "Gvv3so8XmA9D"
      },
      "source": [
        "def validation_epoch_end( outputs):\n",
        "    batch_losses = [x['val_loss'] for x in outputs]\n",
        "    epoch_loss = torch.stack(batch_losses).mean()   # Combine losses\n",
        "    return {'val_loss': epoch_loss.item()}"
      ],
      "execution_count": null,
      "outputs": []
    },
    {
      "cell_type": "code",
      "metadata": {
        "id": "BHROIEKqg0Rm"
      },
      "source": [
        "@torch.no_grad()\n",
        "def evaluate(model, val_loader):\n",
        "    model.eval()\n",
        "    outputs = [validation_step(model, batch) for batch in val_loader]\n",
        "    return validation_epoch_end(outputs)"
      ],
      "execution_count": null,
      "outputs": []
    },
    {
      "cell_type": "code",
      "metadata": {
        "id": "QfecLm6Xnuz-"
      },
      "source": [
        "def epoch_end(epoch, result):\n",
        "    print(\"Epoch [{}], train_loss: {:.4f}, val_loss: {:.4f}\".format(\n",
        "        epoch, result['train_loss'], result['val_loss'], ))"
      ],
      "execution_count": null,
      "outputs": []
    },
    {
      "cell_type": "code",
      "metadata": {
        "id": "adoGKmjTgUKl"
      },
      "source": [
        "grad_clip = 0.1\n"
      ],
      "execution_count": null,
      "outputs": []
    },
    {
      "cell_type": "code",
      "metadata": {
        "id": "palTNkqJmbqF"
      },
      "source": [
        "history = []\n"
      ],
      "execution_count": null,
      "outputs": []
    },
    {
      "cell_type": "code",
      "metadata": {
        "id": "g76oPPWun8B3"
      },
      "source": [
        "epochs = 3"
      ],
      "execution_count": null,
      "outputs": []
    },
    {
      "cell_type": "code",
      "metadata": {
        "id": "jeaQGuwDdafL",
        "colab": {
          "base_uri": "https://localhost:8080/",
          "height": 69
        },
        "outputId": "11cd86a2-9086-42eb-8ead-ab857874d880"
      },
      "source": [
        "for epoch in range(epochs):\n",
        "    train_losses = []\n",
        "    model.train()\n",
        "    epoch_loss = 0\n",
        "    for i, batch in enumerate(trn_dl):\n",
        "        x, y = [t.to(device) for t in batch]\n",
        "        x = x.reshape(bs,-1, 1)\n",
        "        # x = x.double()\n",
        "        optimizer.zero_grad()\n",
        "        y_hat = model(x)\n",
        "        loss = total_loss(y_hat, y, model.parameters())\n",
        "        train_losses.append(loss)\n",
        "        out = model(x)\n",
        "        epoch_loss += loss.item()\n",
        "        loss.backward()\n",
        "        nn.utils.clip_grad_value_(model.parameters(), grad_clip) # Applying gradient clipping\n",
        "        optimizer.step()\n",
        "\n",
        "\n",
        "        result = evaluate(model, val_dl)\n",
        "        result['train_loss'] = torch.stack(train_losses).mean().item()\n",
        "\n",
        "        epoch_end(epoch, result)\n",
        "\n",
        "        history.append(result)\n",
        "        break"
      ],
      "execution_count": null,
      "outputs": [
        {
          "output_type": "stream",
          "text": [
            "Epoch [0], train_loss: 0.0544, val_loss: 0.0382\n",
            "Epoch [1], train_loss: 0.0375, val_loss: 0.0386\n",
            "Epoch [2], train_loss: 0.0346, val_loss: 0.0341\n"
          ],
          "name": "stdout"
        }
      ]
    },
    {
      "cell_type": "markdown",
      "metadata": {
        "id": "wcv2IPZMv9IS"
      },
      "source": [
        "## save the model"
      ]
    },
    {
      "cell_type": "code",
      "metadata": {
        "id": "sZkJZFdGv_jn"
      },
      "source": [
        "torch.save(model.state_dict(), 'LSTM-MSNet.pth')"
      ],
      "execution_count": null,
      "outputs": []
    },
    {
      "cell_type": "markdown",
      "metadata": {
        "id": "D_5-_iWsvO2v"
      },
      "source": [
        "## Plotting the losses"
      ]
    },
    {
      "cell_type": "code",
      "metadata": {
        "id": "R4TlGwNZqDEm"
      },
      "source": [
        "import matplotlib.pyplot as plt"
      ],
      "execution_count": null,
      "outputs": []
    },
    {
      "cell_type": "code",
      "metadata": {
        "id": "MuhZMEFjpyJm"
      },
      "source": [
        "def plot_losses(history):\n",
        "    train_losses = [x.get('train_loss') for x in history]\n",
        "    val_losses = [x['val_loss'] for x in history]\n",
        "    plt.plot(train_losses, '-bx')\n",
        "    plt.plot(val_losses, '-rx')\n",
        "    plt.xlabel('epoch')\n",
        "    plt.ylabel('loss')\n",
        "    plt.legend(['Training', 'Validation'])\n",
        "    plt.title('Loss vs. No. of epochs');"
      ],
      "execution_count": null,
      "outputs": []
    },
    {
      "cell_type": "code",
      "metadata": {
        "id": "scwbSJ2Fp869",
        "colab": {
          "base_uri": "https://localhost:8080/",
          "height": 295
        },
        "outputId": "58d2aad6-692a-48de-be05-07163809d021"
      },
      "source": [
        "plot_losses(history)"
      ],
      "execution_count": null,
      "outputs": [
        {
          "output_type": "display_data",
          "data": {
            "image/png": "[encoded data removed]",
            "text/plain": [
              "<Figure size 432x288 with 1 Axes>"
            ]
          },
          "metadata": {
            "tags": [],
            "needs_background": "light"
          }
        }
      ]
    },
    {
      "cell_type": "markdown",
      "metadata": {
        "id": "fBRK7qtV0MwX"
      },
      "source": [
        "## Post-processing Layer"
      ]
    },
    {
      "cell_type": "markdown",
      "metadata": {
        "id": "u2WWC8IS1ljJ"
      },
      "source": [
        "### Reseasonalisation & Renormalisation"
      ]
    },
    {
      "cell_type": "code",
      "metadata": {
        "id": "nWDlFPoc1t8d"
      },
      "source": [
        "renormalised = []\n",
        "Y_ = []\n",
        "X_ = []\n",
        "for i, (x,y,seasonal_vector, time_series_mean, level_value) in df_x_y_seasonal_comp.iterrows():\n",
        "    # print(i, lens(x,y,season))\n",
        "    x,y,seasonal_vector, time_series_mean, level_value = list(map(torch.tensor, [x,y,seasonal_vector, time_series_mean, level_value]))\n",
        "    y_hat = model(x.reshape(1,-1,1))\n",
        "    reseason = y_hat[0] + seasonal_vector\n",
        "    # print(reseason)\n",
        "    # reseasonalised.append(reseason.tolist())\n",
        "    Y_.append(y.tolist())\n",
        "    X_.append(x.tolist())\n",
        "\n",
        "    renormalisation = y_hat[0] + level_value + seasonal_vector \n",
        "    renormalisation = renormalisation -1\n",
        "    renormalisation = torch.exp(renormalisation)\n",
        "    renormalisation = renormalisation * time_series_mean\n",
        "    renormalisation[renormalisation <0] = 0\n",
        "    renormalised.append(renormalisation.tolist())\n",
        "    if i==5:\n",
        "        break"
      ],
      "execution_count": null,
      "outputs": []
    },
    {
      "cell_type": "markdown",
      "metadata": {
        "id": "dD6L9jhC1o5U"
      },
      "source": [
        "# Part 4Part 4\n"
      ]
    },
    {
      "cell_type": "markdown",
      "metadata": {
        "id": "6k-5LlJLp9a9"
      },
      "source": [
        "Evaluate the model's performance on the following 4 error metrics"
      ]
    },
    {
      "cell_type": "markdown",
      "metadata": {
        "id": "RuvKPoJS_OhV"
      },
      "source": [
        "## sMAPE"
      ]
    },
    {
      "cell_type": "code",
      "metadata": {
        "id": "eKtbrMgJZQbe"
      },
      "source": [
        "def sMAP(F,Y):\n",
        "    'F - forecsted ,Y- actual'\n",
        "    return 2*np.mean( np.abs(F - Y) / (np.abs(Y) + np.abs(F)))"
      ],
      "execution_count": null,
      "outputs": []
    },
    {
      "cell_type": "markdown",
      "metadata": {
        "id": "8EhcGYCGqGS9"
      },
      "source": [
        "Mean of the sMAPEs (Mean sMAPE)"
      ]
    },
    {
      "cell_type": "code",
      "metadata": {
        "id": "dmcnk_XQyz7i"
      },
      "source": [
        "renormalised, Y_, X_ = list(map(np.array, [renormalised, Y_, X_]))"
      ],
      "execution_count": null,
      "outputs": []
    },
    {
      "cell_type": "code",
      "metadata": {
        "id": "zNLUWblYpbm4"
      },
      "source": [
        "SMAPEPerSeries = [sMAPE(f, y) for f,y in zip(renormalised, Y_)]"
      ],
      "execution_count": null,
      "outputs": []
    },
    {
      "cell_type": "code",
      "metadata": {
        "id": "eSM4T4ZEzvSt"
      },
      "source": [
        "mean_SMAPE = np.mean(SMAPEPerSeries)\n",
        "median_SMAPE = np.median(SMAPEPerSeries)\n",
        "std_SMAPE = np.std(SMAPEPerSeries)"
      ],
      "execution_count": null,
      "outputs": []
    },
    {
      "cell_type": "code",
      "metadata": {
        "id": "p1HwsgA1149j",
        "colab": {
          "base_uri": "https://localhost:8080/",
          "height": 69
        },
        "outputId": "7039ff60-68d5-4771-90c2-52edb606448c"
      },
      "source": [
        "print(mean_SMAPE)\n",
        "print(median_SMAPE)\n",
        "print(std_SMAPE)"
      ],
      "execution_count": null,
      "outputs": [
        {
          "output_type": "stream",
          "text": [
            "1.9998911952875524\n",
            "1.9998916011890584\n",
            "8.303204567851873e-06\n"
          ],
          "name": "stdout"
        }
      ]
    },
    {
      "cell_type": "markdown",
      "metadata": {
        "id": "pd1DIbDwCxDT"
      },
      "source": [
        "## MASE"
      ]
    },
    {
      "cell_type": "code",
      "metadata": {
        "id": "nQUvmSHP2iDv"
      },
      "source": [
        "def MASE(X,Y, F):\n",
        "    n = X.shape[0]\n",
        "    d = np.abs(  np.diff( X) ).sum()/(n-1)\n",
        "    \n",
        "    errors = np.abs(Y - F )\n",
        "    return errors.mean()/d"
      ],
      "execution_count": null,
      "outputs": []
    },
    {
      "cell_type": "code",
      "metadata": {
        "id": "c-HeNv_QDNIo"
      },
      "source": [
        "MASEPerSeries = [MASE(x,y,f) for x,y,f in zip(X_, Y_, renormalised )]"
      ],
      "execution_count": null,
      "outputs": []
    },
    {
      "cell_type": "code",
      "metadata": {
        "id": "8NdgRU-cEMj_"
      },
      "source": [
        "mean_MASE = np.mean(MASEPerSeries)\n",
        "median_MASE = np.median(MASEPerSeries)\n",
        "std_MASE = np.std(MASEPerSeries)"
      ],
      "execution_count": null,
      "outputs": []
    },
    {
      "cell_type": "code",
      "metadata": {
        "id": "jewTJhGIEn7F",
        "colab": {
          "base_uri": "https://localhost:8080/",
          "height": 69
        },
        "outputId": "54904677-efae-432b-d312-d30a5599c991"
      },
      "source": [
        "print(mean_MASE)\n",
        "print(median_MASE)\n",
        "print(std_MASE)"
      ],
      "execution_count": null,
      "outputs": [
        {
          "output_type": "stream",
          "text": [
            "45231.32239613115\n",
            "45346.52460961857\n",
            "1094.827866377676\n"
          ],
          "name": "stdout"
        }
      ]
    },
    {
      "cell_type": "code",
      "metadata": {
        "id": "tLVNOz7NE4we"
      },
      "source": [
        ""
      ],
      "execution_count": null,
      "outputs": []
    }
  ]
}